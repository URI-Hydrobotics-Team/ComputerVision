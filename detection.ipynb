{
  "nbformat": 4,
  "nbformat_minor": 0,
  "metadata": {
    "colab": {
      "provenance": []
    },
    "kernelspec": {
      "name": "python3",
      "display_name": "Python 3"
    },
    "language_info": {
      "name": "python"
    }
  },
  "cells": [
    {
      "cell_type": "code",
      "source": [
        "!pip install ultralytics\n",
        "from ultralytics import YOLO\n",
        "import cv2 as cv"
      ],
      "metadata": {
        "id": "0BM4dMnZPCf8",
        "collapsed": true
      },
      "execution_count": null,
      "outputs": []
    },
    {
      "cell_type": "code",
      "source": [
        "def detection(image, model_weights):\n",
        "  # Load the detection model\n",
        "  model = YOLO(model_weights)\n",
        "\n",
        "  #Get all the class name\n",
        "  classes = model.names\n",
        "\n",
        "  x_list = []\n",
        "  y_list = []\n",
        "  width_list = []\n",
        "  height_list = []\n",
        "  conf_score = []\n",
        "  class_list = []\n",
        "\n",
        "\n",
        "  # If no frame exist, return error\n",
        "  if image.size == 0:\n",
        "    return \"Error\"\n",
        "\n",
        "  # Get the predict result from the model with confident score greater than 0.5\n",
        "  predict_result = model.predict(image, conf = 0.5, save = False)\n",
        "\n",
        "  for result in predict_result:\n",
        "    for r in result:\n",
        "      # Get the x, y, w, h of the object and the bounding box\n",
        "      data = r.boxes.xywh[0]\n",
        "      x, y, w, h = int(data[0]), int(data[1]), int(data[2]), int(data[3])\n",
        "\n",
        "      # Get the confident score\n",
        "      conf = float(r.boxes.conf)\n",
        "\n",
        "      # Get the name of the object\n",
        "      class_id = int(r.boxes.cls[0])\n",
        "      detected_object = classes[class_id]\n",
        "\n",
        "      # Append the corresponding data into their list\n",
        "      x_list.append(x)\n",
        "      y_list.append(y)\n",
        "      width_list.append(w)\n",
        "      height_list.append(h)\n",
        "      conf_score.append(conf)\n",
        "      class_list.append(detected_object)\n",
        "\n",
        "  return class_list, conf_score, x_list, y_list, width_list, height_list"
      ],
      "metadata": {
        "id": "rTl5bWg-mn8n"
      },
      "execution_count": 2,
      "outputs": []
    }
  ]
}