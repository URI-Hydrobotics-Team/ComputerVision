{
  "cells": [
    {
      "cell_type": "markdown",
      "metadata": {
        "id": "QmynlMBncSI5"
      },
      "source": [
        "1.Install ultralytics to access YOLO models"
      ]
    },
    {
      "cell_type": "code",
      "execution_count": null,
      "metadata": {
        "colab": {
          "base_uri": "https://localhost:8080/"
        },
        "collapsed": true,
        "id": "vHrpNjzdb7Rv",
        "outputId": "56496a01-293b-4812-a4af-140c8712e3b9"
      },
      "outputs": [],
      "source": [
        "!pip install ultralytics"
      ]
    },
    {
      "cell_type": "code",
      "execution_count": null,
      "metadata": {
        "id": "uIC1aGSCrsN-"
      },
      "outputs": [],
      "source": [
        "from google.colab import files\n",
        "file = files.upload()"
      ]
    },
    {
      "cell_type": "code",
      "execution_count": null,
      "metadata": {
        "collapsed": true,
        "id": "BWz_KvVRWlu7"
      },
      "outputs": [],
      "source": [
        "# Code to unzip any zip folders\n",
        "!unzip dataset.zip"
      ]
    },
    {
      "cell_type": "markdown",
      "metadata": {
        "id": "XIrzbSGQdF3O"
      },
      "source": [
        "2.Import YOLO to access models"
      ]
    },
    {
      "cell_type": "code",
      "execution_count": null,
      "metadata": {
        "id": "QLgiBGtgcwXc"
      },
      "outputs": [],
      "source": [
        "from ultralytics import YOLO\n",
        "import cv2 as cv"
      ]
    },
    {
      "cell_type": "markdown",
      "metadata": {
        "id": "ovq2E6wYcpXV"
      },
      "source": [
        "3.Get a pretrained YOLOV8 model, there are different YOLOV8 models for different task. If already have a trained model, move to step 6\n",
        "\n",
        "---\n",
        "Check out the website for more information if neccessary. https://docs.ultralytics.com/models/yolov8/#__tabbed_1_1\n",
        "\n",
        "\n"
      ]
    },
    {
      "cell_type": "code",
      "execution_count": null,
      "metadata": {
        "id": "kAjzlm_Xco1_"
      },
      "outputs": [],
      "source": [
        "model = YOLO('yolov8m.pt')"
      ]
    },
    {
      "cell_type": "markdown",
      "metadata": {
        "id": "P97ecKhDeEAI"
      },
      "source": [
        "4.Vertify the size of the data"
      ]
    },
    {
      "cell_type": "code",
      "execution_count": null,
      "metadata": {
        "id": "NmihEO47e0zk"
      },
      "outputs": [],
      "source": [
        "# get an image from the dataset\n",
        "img = cv.imread('image link')\n",
        "print(img.shape)"
      ]
    },
    {
      "cell_type": "markdown",
      "metadata": {
        "id": "6aXr6GvxgLb6"
      },
      "source": [
        "5.Train the pretrained model with the new dataset"
      ]
    },
    {
      "cell_type": "code",
      "execution_count": null,
      "metadata": {
        "id": "faPOdiSad-08"
      },
      "outputs": [],
      "source": [
        "result = model.train(data = 'dataset yaml file', epochs = 100)"
      ]
    },
    {
      "cell_type": "markdown",
      "metadata": {
        "id": "wVLVHgQtgRu2"
      },
      "source": [
        "6.Set the new trained model using the best.pt from the runs folder, or the weights of the computer vision model"
      ]
    },
    {
      "cell_type": "code",
      "execution_count": null,
      "metadata": {
        "id": "PF7GVAqrfJLz"
      },
      "outputs": [],
      "source": [
        "new_model = YOLO('/content/runs/detect/train/weights/best.pt')"
      ]
    },
    {
      "cell_type": "code",
      "execution_count": null,
      "metadata": {
        "id": "yfMb9mXWnEHI"
      },
      "outputs": [],
      "source": [
        "# Test on ramdom image\n",
        "result = new_model.predict(source = 'image', conf = 0.4, save = True)"
      ]
    },
    {
      "cell_type": "markdown",
      "metadata": {
        "id": "6dYwuVAGUXfe"
      },
      "source": [
        "7.Validate the trained model"
      ]
    },
    {
      "cell_type": "code",
      "execution_count": null,
      "metadata": {
        "id": "GBDNZdjOUW9D"
      },
      "outputs": [],
      "source": [
        "# get the validation result\n",
        "metrics = new_model.val()\n",
        "\n",
        "# Print the results\n",
        "print(\"Map50 result: \", metrics.box.map50)\n",
        "print(\"Map95 result: \", metrics.box.map75)\n",
        "print(\"Accuracy of each class: \", metrics.box.maps)"
      ]
    }
  ],
  "metadata": {
    "accelerator": "GPU",
    "colab": {
      "gpuType": "T4",
      "provenance": []
    },
    "kernelspec": {
      "display_name": "Python 3",
      "name": "python3"
    },
    "language_info": {
      "name": "python"
    }
  },
  "nbformat": 4,
  "nbformat_minor": 0
}
